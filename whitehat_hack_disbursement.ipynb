{
 "cells": [
  {
   "cell_type": "markdown",
   "id": "59a74884",
   "metadata": {},
   "source": [
    "## Whitehat Hack Funds Disbursement\n",
    "We need to disburse funds to users whose funds we rescued. The purpose of this notebook is to have a single source of truth for how many funds we owe each user.\n",
    "\n",
    "#### Decisions / Assumptions\n",
    "* The point in time we will use to calculate a users assets in the protocol will be the block before the first whitehat on each chain\n"
   ]
  },
  {
   "cell_type": "code",
   "execution_count": 2,
   "id": "08278ad4",
   "metadata": {},
   "outputs": [],
   "source": [
    "import os\n",
    "from web3 import Web3\n",
    "from dotenv import load_dotenv"
   ]
  },
  {
   "cell_type": "code",
   "execution_count": null,
   "id": "76f77d3a",
   "metadata": {},
   "outputs": [],
   "source": [
    "####################################################\n",
    "# Environment variables\n",
    "####################################################\n",
    "load_dotenv()\n",
    "ALCHEMY_API_KEY = os.getenv('ALCHEMY_API_KEY')\n",
    "\n",
    "####################################################\n",
    "# RPC Clients\n",
    "####################################################\n",
    "w3_mainnet = Web3(Web3.HTTPProvider(f'https://eth-mainnet.g.alchemy.com/v2/{ALCHEMY_API_KEY}'))\n",
    "w3_base = Web3(Web3.HTTPProvider(f'https://base-mainnet.g.alchemy.com/v2/{ALCHEMY_API_KEY}'))\n",
    "w3_unichain = Web3(Web3.HTTPProvider(f'https://unichain-mainnet.g.alchemy.com/v2/{ALCHEMY_API_KEY}'))\n",
    "\n",
    "####################################################\n",
    "# Whitehat block nums\n",
    "####################################################\n",
    "# unichain_first_whitehat_block = 25669817\n",
    "# base_first_whitehat_block = 34814419\n",
    "mainnet_first_whitehat_block = 23242436\n",
    "\n",
    "####################################################\n",
    "# Subgraph urls\n",
    "####################################################\n",
    "chainToSubgraphUrl = {\n",
    "    # mainnet\n",
    "    1: 'https://api.goldsky.com/api/public/project_cl9gc21q105380hxuh8ks53k3/subgraphs/panoptic-subgraph-mainnet/dev/gn',\n",
    "    # unichain\n",
    "    130: 'https://api.goldsky.com/api/public/project_cl9gc21q105380hxuh8ks53k3/subgraphs/panoptic-subgraph-unichain/dev/gn',\n",
    "    # base\n",
    "    8453: 'https://api.goldsky.com/api/public/project_cl9gc21q105380hxuh8ks53k3/subgraphs/panoptic-subgraph-base/dev/gn',\n",
    "}\n",
    "\n",
    "####################################################\n",
    "# Token addrs\n",
    "####################################################\n",
    "mainnet_weth = '0xC02aaA39b223FE8D0A0e5C4F27eAD9083C756Cc2'\n",
    "mainnet_wbtc = '0x2260FAC5E5542a773Aa44fBCfeDf7C193bc2C599'\n",
    "mainnet_usdc = '0xA0b86991c6218b36c1d19D4a2e9Eb0cE3606eB48'\n",
    "mainnet_tbtc = '0x18084fbA666a33d37592fA2633fD49a74DD93a88'\n",
    "\n",
    "####################################################\n",
    "# Abis\n",
    "####################################################\n",
    "# Minimal ABI for balanceOf\n",
    "ERC20_ABI = [\n",
    "    {\n",
    "        \"constant\": True,\n",
    "        \"inputs\": [{\"name\": \"_owner\", \"type\": \"address\"}],\n",
    "        \"name\": \"balanceOf\",\n",
    "        \"outputs\": [{\"name\": \"balance\", \"type\": \"uint256\"}],\n",
    "        \"type\": \"function\"\n",
    "    }\n",
    "]\n",
    "\n",
    "####################################################\n",
    "# Whitehat metadata\n",
    "####################################################\n",
    "attacker = '0xa1F0A9d51b592ee074eD6987006976908631503B'\n",
    "\n",
    "\n",
    "panoptic_safe_address = '0x82BF455e9ebd6a541EF10b683dE1edCaf05cE7A1'"
   ]
  },
  {
   "cell_type": "markdown",
   "id": "2d8c62e5",
   "metadata": {},
   "source": [
    "## Mainnet"
   ]
  },
  {
   "cell_type": "markdown",
   "id": "9687704d",
   "metadata": {},
   "source": [
    "#### Fetch funds to disburse from Mainnet safe (as of Sep 2)"
   ]
  },
  {
   "cell_type": "code",
   "execution_count": 4,
   "id": "101c847f",
   "metadata": {},
   "outputs": [
    {
     "name": "stdout",
     "output_type": "stream",
     "text": [
      "Mainnet funds to distribute\n",
      "WETH: 79973292639517791570\n",
      "WBTC: 16056508\n",
      "TBTC: 49858198424970731\n",
      "USDC: 39578598443\n"
     ]
    }
   ],
   "source": [
    "# Can confirm funds match safe mainnet balances here:\n",
    "# https://app.safe.global/home?safe=eth:0x82BF455e9ebd6a541EF10b683dE1edCaf05cE7A1\n",
    "mainnet_tue_sep_1_2025_block = 23275660\n",
    "\n",
    "mainnet_weth_contract = w3_mainnet.eth.contract(address=mainnet_weth, abi=ERC20_ABI)\n",
    "weth_balance = mainnet_weth_contract.functions.balanceOf(panoptic_safe_address).call(block_identifier=mainnet_tue_sep_1_2025_block)\n",
    "\n",
    "mainnet_wbtc_contract = w3_mainnet.eth.contract(address=mainnet_wbtc, abi=ERC20_ABI)\n",
    "wbtc_balance = mainnet_wbtc_contract.functions.balanceOf(panoptic_safe_address).call(block_identifier=mainnet_tue_sep_1_2025_block)\n",
    "\n",
    "mainnet_tbtc_contract = w3_mainnet.eth.contract(address=mainnet_tbtc, abi=ERC20_ABI)\n",
    "tbtc_balance = mainnet_tbtc_contract.functions.balanceOf(panoptic_safe_address).call(block_identifier=mainnet_tue_sep_1_2025_block)\n",
    "\n",
    "mainnet_usdc_contract = w3_mainnet.eth.contract(address=mainnet_usdc, abi=ERC20_ABI)\n",
    "usdc_balance = mainnet_usdc_contract.functions.balanceOf(panoptic_safe_address).call(block_identifier=mainnet_tue_sep_1_2025_block)\n",
    "\n",
    "print(\"Mainnet funds to distribute\")\n",
    "print(\"WETH:\", weth_balance)\n",
    "print(\"WBTC:\", wbtc_balance)\n",
    "print(\"TBTC:\", tbtc_balance)\n",
    "print(\"USDC:\", usdc_balance)"
   ]
  },
  {
   "cell_type": "markdown",
   "id": "6da3ad72",
   "metadata": {},
   "source": [
    "#### Mainnet user fund distribution before whitehat\n",
    "\n",
    "> Block `t_0` is 1 block before the block where the first whitehat txn on a given chain executed\n",
    "> Block `t_1` is the block of the first whitehat txn on a given chain\n",
    "\n",
    "To calculate the funds owed to each user, we calculate the following at block `t_0` and `t_1` for each Panoptic user in each pool:\n",
    "1. The net value of the user's options portfolio in token0 and token1, calculated by [`getNetLiquidationValue`](https://github.com/panoptic-labs/panoptic-v1-helper/blob/main/src/PanopticQuery.sol#L849) with arguments as follows:\n",
    "    * pool - self explanatory\n",
    "    * account - self explanatory\n",
    "    * `includePendingPremium` - true\n",
    "    * `positionIdList` - using open positions from subgraph at the block\n",
    "    * `atTick` - using panoptic pool's TWAP tick at the block.\n",
    "2. Collateral balance shares converted to assets, using [`convertToAssets`](https://github.com/panoptic-labs/panoptic-v1-core/blob/main/contracts/CollateralTracker.sol#L363).\n",
    "    * There are two collateral trackers per pool, so these values also result in some amount of token0 and token1\n",
    "* We net the token0 and token1 results from 1. and 2. to get the total assets in token0 and token1 each user had in the protocol at block `t_0`, right before the rescue, and `t_1`, right after the rescue.\n",
    "* Subtract each user's token0 at `t_0` and token1 at `t_0`, from the token0 at `t_1` and token1 at `t_1` to get each user's loss in t0 and t1 from the rescue.\n",
    "\n",
    "To get each user's total loss in each token, we net each user's loss in each token for each pool where they had deposits or open positions.\n",
    "\n",
    "Finally, as a sanity check, we net all user losses for each token - this should be within a few percent of the respective token's balance held in our safe."
   ]
  },
  {
   "cell_type": "code",
   "execution_count": null,
   "id": "b9dc2dda",
   "metadata": {},
   "outputs": [],
   "source": [
    "t = mainnet_first_whitehat_block - 1\n",
    "\n",
    "getNetLiquidationValue()\n",
    "\n",
    "# what funds do we want to disburse?\n",
    "\n",
    "# how to "
   ]
  },
  {
   "cell_type": "code",
   "execution_count": null,
   "id": "9691d030",
   "metadata": {},
   "outputs": [],
   "source": []
  }
 ],
 "metadata": {
  "kernelspec": {
   "display_name": ".venv",
   "language": "python",
   "name": "python3"
  },
  "language_info": {
   "codemirror_mode": {
    "name": "ipython",
    "version": 3
   },
   "file_extension": ".py",
   "mimetype": "text/x-python",
   "name": "python",
   "nbconvert_exporter": "python",
   "pygments_lexer": "ipython3",
   "version": "3.10.2"
  }
 },
 "nbformat": 4,
 "nbformat_minor": 5
}
